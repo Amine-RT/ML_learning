{
 "cells": [
  {
   "cell_type": "code",
   "execution_count": 40,
   "metadata": {},
   "outputs": [],
   "source": [
    "%%capture\n",
    "\n",
    "!git clone https://github.com/vinid/NegotiationArena/\n",
    "!pip install -r NegotiationArena/requirements.txt"
   ]
  },
  {
   "cell_type": "code",
   "execution_count": 41,
   "metadata": {},
   "outputs": [],
   "source": [
    "import sys\n",
    "from dotenv import load_dotenv\n",
    "\n",
    "sys.path.append('NegotiationArena/')"
   ]
  },
  {
   "cell_type": "code",
   "execution_count": 42,
   "metadata": {},
   "outputs": [
    {
     "data": {
      "text/plain": [
       "'c:\\\\DATA\\\\Personnel\\\\MEGAsync\\\\Coursera\\\\ML\\\\ML_Learning\\\\negociationArena'"
      ]
     },
     "execution_count": 42,
     "metadata": {},
     "output_type": "execute_result"
    }
   ],
   "source": [
    "import os\n",
    "current_path = os.getcwd()\n",
    "current_path"
   ]
  },
  {
   "cell_type": "code",
   "execution_count": 44,
   "metadata": {},
   "outputs": [
    {
     "data": {
      "text/plain": [
       "True"
      ]
     },
     "execution_count": 44,
     "metadata": {},
     "output_type": "execute_result"
    }
   ],
   "source": [
    "# the project assumes you have your environment variable in an env file.\n",
    "load_dotenv(\".env\")"
   ]
  },
  {
   "cell_type": "code",
   "execution_count": 45,
   "metadata": {},
   "outputs": [],
   "source": [
    "from negotiationarena.alternating_game import AlternatingGameEndsOnTag\n",
    "from negotiationarena.parser import ExchangeGameDefaultParser\n",
    "from negotiationarena.constants import (RESOURCES_TAG,\n",
    "                                        MESSAGE_TAG,PLAYER_ANSWER_TAG,\n",
    "                                        PROPOSED_TRADE_TAG,\n",
    "                                        REASONING_TAG,\n",
    "                                        ACCEPTING_TAG,\n",
    "                                        AGENT_ONE,\n",
    "                                        AGENT_TWO)\n",
    "\n",
    "from negotiationarena.utils import get_tag_contents\n",
    "from negotiationarena.agent_message import AgentMessage\n",
    "from typing import List\n",
    "from negotiationarena.agents.agents import Agent\n",
    "from negotiationarena.agents import ChatGPTAgent\n",
    "from negotiationarena.game_objects.resource import Resources\n",
    "from glob import glob\n",
    "import json"
   ]
  },
  {
   "cell_type": "code",
   "execution_count": 46,
   "metadata": {},
   "outputs": [
    {
     "name": "stdout",
     "output_type": "stream",
     "text": [
      "my resources\n",
      "message player answer\n",
      "my resources\n",
      "message player answer\n",
      "newly proposed trade\n",
      "reason\n",
      "ACCEPT\n",
      "Player RED\n",
      "Player BLUE\n"
     ]
    }
   ],
   "source": [
    "print(RESOURCES_TAG)\n",
    "print(MESSAGE_TAG,PLAYER_ANSWER_TAG)\n",
    "print(RESOURCES_TAG)\n",
    "print(MESSAGE_TAG,PLAYER_ANSWER_TAG)\n",
    "print(PROPOSED_TRADE_TAG)\n",
    "print(REASONING_TAG)\n",
    "print(ACCEPTING_TAG)\n",
    "print(AGENT_ONE)\n",
    "print(AGENT_TWO)\n"
   ]
  },
  {
   "cell_type": "code",
   "execution_count": 47,
   "metadata": {},
   "outputs": [],
   "source": [
    "def simple_game_prompt(initial_resources, player_social_behaviour):\n",
    "    prompt = f\"\"\"You are playing a game in which {AGENT_ONE} gives all resources to {AGENT_TWO}. {AGENT_TWO} has nothing to give.\n",
    "You can only make on single trade.\n",
    "\n",
    "RULES:\n",
    "\n",
    "\n",
    "1. You must always respond with:\n",
    "\n",
    "A) Propose a trade with (you can only trade in integer amounts, not decimals):\n",
    "<player answer> PROPOSAL </player answer>\n",
    "<{PROPOSED_TRADE_TAG}> {AGENT_ONE} Gives item1: amount, item2: amount ...| {AGENT_TWO} Gives item1: 0, item2: 0 </{PROPOSED_TRADE_TAG}>\n",
    "Replace item names with the resources you want to exchange, for example {AGENT_ONE} Gives B: 2\n",
    "\n",
    "B) You can only accept the trade by saying:\n",
    "<player answer> {ACCEPTING_TAG} </player answer>\n",
    "<{PROPOSED_TRADE_TAG}> NONE </{PROPOSED_TRADE_TAG}>\n",
    "\n",
    "2. You can send a message to the other agent by saying:\n",
    "\n",
    "<{MESSAGE_TAG}> your message here </{MESSAGE_TAG}>\n",
    "\n",
    "Here is what you have access to:\n",
    "\n",
    "<{RESOURCES_TAG}> {initial_resources} </{RESOURCES_TAG}>\n",
    "\n",
    "\n",
    "All the responses you send should contain the following and in this order:\n",
    "\n",
    "\n",
    "<{PLAYER_ANSWER_TAG}> [add here] </{PLAYER_ANSWER_TAG}>\n",
    "<{PROPOSED_TRADE_TAG}> [add here] </{PROPOSED_TRADE_TAG}>\n",
    "<{MESSAGE_TAG}> [add here] </{MESSAGE_TAG}>\n",
    "\n",
    "Please be sure to include all.\n",
    "\n",
    "{player_social_behaviour}\n",
    "\"\"\"\n",
    "\n",
    "    return prompt\n"
   ]
  },
  {
   "cell_type": "code",
   "execution_count": 48,
   "metadata": {},
   "outputs": [
    {
     "name": "stdout",
     "output_type": "stream",
     "text": [
      "You are playing a game in which Player RED gives all resources to Player BLUE. Player BLUE has nothing to give.\n",
      "You can only make on single trade.\n",
      "\n",
      "RULES:\n",
      "\n",
      "\n",
      "1. You must always respond with:\n",
      "\n",
      "A) Propose a trade with (you can only trade in integer amounts, not decimals):\n",
      "<player answer> PROPOSAL </player answer>\n",
      "<newly proposed trade> Player RED Gives item1: amount, item2: amount ...| Player BLUE Gives item1: 0, item2: 0 </newly proposed trade>\n",
      "Replace item names with the resources you want to exchange, for example Player RED Gives B: 2\n",
      "\n",
      "B) You can only accept the trade by saying:\n",
      "<player answer> ACCEPT </player answer>\n",
      "<newly proposed trade> NONE </newly proposed trade>\n",
      "\n",
      "2. You can send a message to the other agent by saying:\n",
      "\n",
      "<message> your message here </message>\n",
      "\n",
      "Here is what you have access to:\n",
      "\n",
      "<my resources> TO BE FILLED AT RUNTIME </my resources>\n",
      "\n",
      "\n",
      "All the responses you send should contain the following and in this order:\n",
      "\n",
      "\n",
      "<player answer> [add here] </player answer>\n",
      "<newly proposed trade> [add here] </newly proposed trade>\n",
      "<message> [add here] </message>\n",
      "\n",
      "Please be sure to include all.\n",
      "\n",
      "TO BE FILLED AT RUNTIME\n",
      "\n"
     ]
    }
   ],
   "source": [
    "print(simple_game_prompt(\"TO BE FILLED AT RUNTIME\", \"TO BE FILLED AT RUNTIME\"))"
   ]
  },
  {
   "cell_type": "code",
   "execution_count": 49,
   "metadata": {},
   "outputs": [],
   "source": [
    "class SimpleGameDefaultParser(ExchangeGameDefaultParser):\n",
    "\n",
    "    def instantiate_prompt(self, initial_resources, social_behavior):\n",
    "        \"\"\"\n",
    "        This method is going to instantiate the prompt for each agent. It is going to\n",
    "        make a player-specific prompt, telling the agent its resources and the behavior\n",
    "        it should have in the game.\n",
    "        \"\"\"\n",
    "        return simple_game_prompt(initial_resources, social_behavior)\n",
    "\n",
    "    def parse(self, response):\n",
    "        \"\"\"\n",
    "        This method is going to parse the raw response from an agent and return a\n",
    "        structured object.\n",
    "\n",
    "        This method is going to receive in input something like the following:\n",
    "\n",
    "        <answer> REJECT </answer>\n",
    "        <message> I don't like your trade, here's my counter offer. </message>\n",
    "        <trade> Player RED Gives X:50 | Player Blue Gives Y:40 </trade>\n",
    "\n",
    "        \"\"\"\n",
    "        ms = AgentMessage()\n",
    "\n",
    "        answer = get_tag_contents(response, PLAYER_ANSWER_TAG)\n",
    "        message = get_tag_contents(response, MESSAGE_TAG)\n",
    "\n",
    "        # very important but fragile method\n",
    "        trade = self.parse_trade(response, PROPOSED_TRADE_TAG)\n",
    "\n",
    "        # all these messages are going to be sent to the other player\n",
    "        ms.add_public(MESSAGE_TAG, message)\n",
    "        ms.add_public(PLAYER_ANSWER_TAG, answer)\n",
    "        ms.add_public(PROPOSED_TRADE_TAG, trade)\n",
    "\n",
    "        return ms\n"
   ]
  },
  {
   "cell_type": "code",
   "execution_count": 50,
   "metadata": {},
   "outputs": [],
   "source": [
    "class SimpleGame(AlternatingGameEndsOnTag):\n",
    "\n",
    "\n",
    "    def __init__(self, players: List[Agent],\n",
    "                 iterations: int,\n",
    "                 player_starting_resources: List[Resources],\n",
    "                 player_roles: List[str],\n",
    "                 player_social_behaviour: List[str],\n",
    "                 **kwargs):\n",
    "\n",
    "        self.game_interface = SimpleGameDefaultParser()\n",
    "\n",
    "        # some params are required by the superclass, players, number of iterations and accepting tag to end the game\n",
    "        # ACCEPTING_TAG is the tag to be produced to end the game. It should appear in the <player answer> TAG\n",
    "        #super().__init__(players=players, iterations=iterations, end_tag=ACCEPTING_TAG, **kwargs)\n",
    "        super().__init__(players=players, iterations=iterations, **kwargs)\n",
    "\n",
    "        #################\n",
    "        # Game State    #\n",
    "        #################\n",
    "\n",
    "        self.player_initial_resources = player_starting_resources\n",
    "        self.player_roles = player_roles\n",
    "        self.player_social_behaviour = player_social_behaviour\n",
    "\n",
    "        ####################################\n",
    "        # Adding Some Logging Information  #\n",
    "        ####################################\n",
    "\n",
    "        self.game_state: List[dict] = [\n",
    "            {\n",
    "                \"current_iteration\": \"START\",\n",
    "                \"turn\": \"None\",\n",
    "                \"settings\": dict(\n",
    "                    player_initial_resources=self.player_initial_resources,\n",
    "                    player_roles=self.player_roles,\n",
    "                    player_social_behaviour=self.player_social_behaviour,\n",
    "                ),\n",
    "            }\n",
    "        ]\n",
    "\n",
    "        # init players\n",
    "        self.init_players()\n",
    "\n",
    "    def init_players(self):\n",
    "        settings = self.game_state[0][\"settings\"]\n",
    "\n",
    "        #################\n",
    "        # Agent Setup   #\n",
    "        #################\n",
    "\n",
    "        # Now we have to tell each GPT agent of its role\n",
    "        # for each player\n",
    "        for idx, player in enumerate(self.players):\n",
    "\n",
    "            # we instantiate a player specific prompt, meaning that\n",
    "            # each agent is going to have it's own prompt with its own resources\n",
    "\n",
    "            game_prompt = self.game_interface.instantiate_prompt(\n",
    "                initial_resources=settings[\"player_initial_resources\"][idx],\n",
    "                social_behavior=settings[\"player_social_behaviour\"][idx],\n",
    "            )\n",
    "\n",
    "            player.init_agent(game_prompt, role=settings[\"player_roles\"][idx])\n",
    "\n",
    "\n",
    "    def after_game_ends(self):\n",
    "        datum = dict(current_iteration=\"END\", turn=\"None\", summary=dict())\n",
    "\n",
    "        self.game_state.append(datum)\n"
   ]
  },
  {
   "cell_type": "code",
   "execution_count": 51,
   "metadata": {},
   "outputs": [
    {
     "ename": "AttributeError",
     "evalue": "'NoneType' object has no attribute 'instantiate_prompt'",
     "output_type": "error",
     "traceback": [
      "\u001b[1;31m---------------------------------------------------------------------------\u001b[0m",
      "\u001b[1;31mAttributeError\u001b[0m                            Traceback (most recent call last)",
      "Cell \u001b[1;32mIn[51], line 10\u001b[0m\n\u001b[0;32m      1\u001b[0m a1 \u001b[38;5;241m=\u001b[39m ChatGPTAgent(\n\u001b[0;32m      2\u001b[0m     model\u001b[38;5;241m=\u001b[39m\u001b[38;5;124m\"\u001b[39m\u001b[38;5;124mgpt-4-1106-preview\u001b[39m\u001b[38;5;124m\"\u001b[39m,\n\u001b[0;32m      3\u001b[0m     agent_name\u001b[38;5;241m=\u001b[39mAGENT_ONE,\n\u001b[0;32m      4\u001b[0m )\n\u001b[0;32m      5\u001b[0m a2 \u001b[38;5;241m=\u001b[39m ChatGPTAgent(\n\u001b[0;32m      6\u001b[0m     model\u001b[38;5;241m=\u001b[39m\u001b[38;5;124m\"\u001b[39m\u001b[38;5;124mgpt-4-1106-preview\u001b[39m\u001b[38;5;124m\"\u001b[39m,\n\u001b[0;32m      7\u001b[0m     agent_name\u001b[38;5;241m=\u001b[39mAGENT_TWO,\n\u001b[0;32m      8\u001b[0m )\n\u001b[1;32m---> 10\u001b[0m c \u001b[38;5;241m=\u001b[39m \u001b[43mSimpleGame\u001b[49m\u001b[43m(\u001b[49m\n\u001b[0;32m     11\u001b[0m \u001b[43m    \u001b[49m\u001b[43mplayers\u001b[49m\u001b[38;5;241;43m=\u001b[39;49m\u001b[43m[\u001b[49m\u001b[43ma1\u001b[49m\u001b[43m,\u001b[49m\u001b[43m \u001b[49m\u001b[43ma2\u001b[49m\u001b[43m]\u001b[49m\u001b[43m,\u001b[49m\n\u001b[0;32m     12\u001b[0m \u001b[43m    \u001b[49m\u001b[43miterations\u001b[49m\u001b[38;5;241;43m=\u001b[39;49m\u001b[38;5;241;43m6\u001b[39;49m\u001b[43m,\u001b[49m\n\u001b[0;32m     13\u001b[0m \u001b[43m    \u001b[49m\u001b[43mplayer_starting_resources\u001b[49m\u001b[38;5;241;43m=\u001b[39;49m\u001b[43m[\u001b[49m\n\u001b[0;32m     14\u001b[0m \u001b[43m        \u001b[49m\u001b[43mResources\u001b[49m\u001b[43m(\u001b[49m\u001b[43m{\u001b[49m\u001b[38;5;124;43m\"\u001b[39;49m\u001b[38;5;124;43mX\u001b[39;49m\u001b[38;5;124;43m\"\u001b[39;49m\u001b[43m:\u001b[49m\u001b[43m \u001b[49m\u001b[38;5;241;43m25\u001b[39;49m\u001b[43m,\u001b[49m\u001b[43m \u001b[49m\u001b[38;5;124;43m\"\u001b[39;49m\u001b[38;5;124;43mY\u001b[39;49m\u001b[38;5;124;43m\"\u001b[39;49m\u001b[43m:\u001b[49m\u001b[43m \u001b[49m\u001b[38;5;241;43m5\u001b[39;49m\u001b[43m}\u001b[49m\u001b[43m)\u001b[49m\u001b[43m,\u001b[49m\n\u001b[0;32m     15\u001b[0m \u001b[43m        \u001b[49m\u001b[43mResources\u001b[49m\u001b[43m(\u001b[49m\u001b[43m{\u001b[49m\u001b[38;5;124;43m\"\u001b[39;49m\u001b[38;5;124;43mX\u001b[39;49m\u001b[38;5;124;43m\"\u001b[39;49m\u001b[43m:\u001b[49m\u001b[43m \u001b[49m\u001b[38;5;241;43m0\u001b[39;49m\u001b[43m,\u001b[49m\u001b[43m \u001b[49m\u001b[38;5;124;43m\"\u001b[39;49m\u001b[38;5;124;43mY\u001b[39;49m\u001b[38;5;124;43m\"\u001b[39;49m\u001b[43m:\u001b[49m\u001b[43m \u001b[49m\u001b[38;5;241;43m0\u001b[39;49m\u001b[43m}\u001b[49m\u001b[43m)\u001b[49m\u001b[43m,\u001b[49m\n\u001b[0;32m     16\u001b[0m \u001b[43m    \u001b[49m\u001b[43m]\u001b[49m\u001b[43m,\u001b[49m\n\u001b[0;32m     17\u001b[0m \u001b[43m    \u001b[49m\u001b[43mplayer_social_behaviour\u001b[49m\u001b[38;5;241;43m=\u001b[39;49m\u001b[43m[\u001b[49m\n\u001b[0;32m     18\u001b[0m \u001b[43m        \u001b[49m\u001b[38;5;124;43m\"\u001b[39;49m\u001b[38;5;124;43m\"\u001b[39;49m\u001b[43m,\u001b[49m\n\u001b[0;32m     19\u001b[0m \u001b[43m        \u001b[49m\u001b[38;5;124;43m\"\u001b[39;49m\u001b[38;5;124;43m\"\u001b[39;49m\u001b[43m,\u001b[49m\n\u001b[0;32m     20\u001b[0m \u001b[43m    \u001b[49m\u001b[43m]\u001b[49m\u001b[43m,\u001b[49m\n\u001b[0;32m     21\u001b[0m \u001b[43m    \u001b[49m\u001b[43mplayer_roles\u001b[49m\u001b[38;5;241;43m=\u001b[39;49m\u001b[43m[\u001b[49m\n\u001b[0;32m     22\u001b[0m \u001b[43m        \u001b[49m\u001b[38;5;124;43mf\u001b[39;49m\u001b[38;5;124;43m\"\u001b[39;49m\u001b[38;5;124;43mYou are \u001b[39;49m\u001b[38;5;132;43;01m{\u001b[39;49;00m\u001b[43mAGENT_ONE\u001b[49m\u001b[38;5;132;43;01m}\u001b[39;49;00m\u001b[38;5;124;43m, start by making a proposal.\u001b[39;49m\u001b[38;5;124;43m\"\u001b[39;49m\u001b[43m,\u001b[49m\n\u001b[0;32m     23\u001b[0m \u001b[43m        \u001b[49m\u001b[38;5;124;43mf\u001b[39;49m\u001b[38;5;124;43m\"\u001b[39;49m\u001b[38;5;124;43mYou are \u001b[39;49m\u001b[38;5;132;43;01m{\u001b[39;49;00m\u001b[43mAGENT_TWO\u001b[49m\u001b[38;5;132;43;01m}\u001b[39;49;00m\u001b[38;5;124;43m, start by accepting a trade.\u001b[39;49m\u001b[38;5;124;43m\"\u001b[39;49m\u001b[43m,\u001b[49m\n\u001b[0;32m     24\u001b[0m \u001b[43m    \u001b[49m\u001b[43m]\u001b[49m\u001b[43m,\u001b[49m\n\u001b[0;32m     25\u001b[0m \u001b[43m    \u001b[49m\u001b[43mlog_dir\u001b[49m\u001b[38;5;241;43m=\u001b[39;49m\u001b[38;5;124;43m\"\u001b[39;49m\u001b[38;5;124;43m./.logs/simple_game/\u001b[39;49m\u001b[38;5;124;43m\"\u001b[39;49m\u001b[43m,\u001b[49m\n\u001b[0;32m     26\u001b[0m \u001b[43m)\u001b[49m\n\u001b[0;32m     28\u001b[0m c\u001b[38;5;241m.\u001b[39mrun()\n",
      "Cell \u001b[1;32mIn[50], line 43\u001b[0m, in \u001b[0;36mSimpleGame.__init__\u001b[1;34m(self, players, iterations, player_starting_resources, player_roles, player_social_behaviour, **kwargs)\u001b[0m\n\u001b[0;32m     30\u001b[0m \u001b[38;5;28mself\u001b[39m\u001b[38;5;241m.\u001b[39mgame_state: List[\u001b[38;5;28mdict\u001b[39m] \u001b[38;5;241m=\u001b[39m [\n\u001b[0;32m     31\u001b[0m     {\n\u001b[0;32m     32\u001b[0m         \u001b[38;5;124m\"\u001b[39m\u001b[38;5;124mcurrent_iteration\u001b[39m\u001b[38;5;124m\"\u001b[39m: \u001b[38;5;124m\"\u001b[39m\u001b[38;5;124mSTART\u001b[39m\u001b[38;5;124m\"\u001b[39m,\n\u001b[1;32m   (...)\u001b[0m\n\u001b[0;32m     39\u001b[0m     }\n\u001b[0;32m     40\u001b[0m ]\n\u001b[0;32m     42\u001b[0m \u001b[38;5;66;03m# init players\u001b[39;00m\n\u001b[1;32m---> 43\u001b[0m \u001b[38;5;28;43mself\u001b[39;49m\u001b[38;5;241;43m.\u001b[39;49m\u001b[43minit_players\u001b[49m\u001b[43m(\u001b[49m\u001b[43m)\u001b[49m\n",
      "Cell \u001b[1;32mIn[50], line 59\u001b[0m, in \u001b[0;36mSimpleGame.init_players\u001b[1;34m(self)\u001b[0m\n\u001b[0;32m     48\u001b[0m \u001b[38;5;66;03m#################\u001b[39;00m\n\u001b[0;32m     49\u001b[0m \u001b[38;5;66;03m# Agent Setup   #\u001b[39;00m\n\u001b[0;32m     50\u001b[0m \u001b[38;5;66;03m#################\u001b[39;00m\n\u001b[0;32m     51\u001b[0m \n\u001b[0;32m     52\u001b[0m \u001b[38;5;66;03m# Now we have to tell each GPT agent of its role\u001b[39;00m\n\u001b[0;32m     53\u001b[0m \u001b[38;5;66;03m# for each player\u001b[39;00m\n\u001b[0;32m     54\u001b[0m \u001b[38;5;28;01mfor\u001b[39;00m idx, player \u001b[38;5;129;01min\u001b[39;00m \u001b[38;5;28menumerate\u001b[39m(\u001b[38;5;28mself\u001b[39m\u001b[38;5;241m.\u001b[39mplayers):\n\u001b[0;32m     55\u001b[0m \n\u001b[0;32m     56\u001b[0m     \u001b[38;5;66;03m# we instantiate a player specific prompt, meaning that\u001b[39;00m\n\u001b[0;32m     57\u001b[0m     \u001b[38;5;66;03m# each agent is going to have it's own prompt with its own resources\u001b[39;00m\n\u001b[1;32m---> 59\u001b[0m     game_prompt \u001b[38;5;241m=\u001b[39m \u001b[38;5;28;43mself\u001b[39;49m\u001b[38;5;241;43m.\u001b[39;49m\u001b[43mgame_interface\u001b[49m\u001b[38;5;241;43m.\u001b[39;49m\u001b[43minstantiate_prompt\u001b[49m(\n\u001b[0;32m     60\u001b[0m         initial_resources\u001b[38;5;241m=\u001b[39msettings[\u001b[38;5;124m\"\u001b[39m\u001b[38;5;124mplayer_initial_resources\u001b[39m\u001b[38;5;124m\"\u001b[39m][idx],\n\u001b[0;32m     61\u001b[0m         social_behavior\u001b[38;5;241m=\u001b[39msettings[\u001b[38;5;124m\"\u001b[39m\u001b[38;5;124mplayer_social_behaviour\u001b[39m\u001b[38;5;124m\"\u001b[39m][idx],\n\u001b[0;32m     62\u001b[0m     )\n\u001b[0;32m     64\u001b[0m     player\u001b[38;5;241m.\u001b[39minit_agent(game_prompt, role\u001b[38;5;241m=\u001b[39msettings[\u001b[38;5;124m\"\u001b[39m\u001b[38;5;124mplayer_roles\u001b[39m\u001b[38;5;124m\"\u001b[39m][idx])\n",
      "\u001b[1;31mAttributeError\u001b[0m: 'NoneType' object has no attribute 'instantiate_prompt'"
     ]
    }
   ],
   "source": [
    "a1 = ChatGPTAgent(\n",
    "    model=\"gpt-4-1106-preview\",\n",
    "    agent_name=AGENT_ONE,\n",
    ")\n",
    "a2 = ChatGPTAgent(\n",
    "    model=\"gpt-4-1106-preview\",\n",
    "    agent_name=AGENT_TWO,\n",
    ")\n",
    "\n",
    "c = SimpleGame(\n",
    "    players=[a1, a2],\n",
    "    iterations=6,\n",
    "    player_starting_resources=[\n",
    "        Resources({\"X\": 25, \"Y\": 5}),\n",
    "        Resources({\"X\": 0, \"Y\": 0}),\n",
    "    ],\n",
    "    player_social_behaviour=[\n",
    "        \"\",\n",
    "        \"\",\n",
    "    ],\n",
    "    player_roles=[\n",
    "        f\"You are {AGENT_ONE}, start by making a proposal.\",\n",
    "        f\"You are {AGENT_TWO}, start by accepting a trade.\",\n",
    "    ],\n",
    "    log_dir=\"./.logs/simple_game/\",\n",
    ")\n",
    "\n",
    "c.run()\n"
   ]
  }
 ],
 "metadata": {
  "kernelspec": {
   "display_name": "base",
   "language": "python",
   "name": "python3"
  },
  "language_info": {
   "codemirror_mode": {
    "name": "ipython",
    "version": 3
   },
   "file_extension": ".py",
   "mimetype": "text/x-python",
   "name": "python",
   "nbconvert_exporter": "python",
   "pygments_lexer": "ipython3",
   "version": "3.10.10"
  }
 },
 "nbformat": 4,
 "nbformat_minor": 2
}
